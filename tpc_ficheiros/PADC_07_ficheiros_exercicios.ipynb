{
 "cells": [
  {
   "cell_type": "markdown",
   "metadata": {},
   "source": [
    "# Manuseamento de Ficheiros"
   ]
  },
  {
   "cell_type": "markdown",
   "metadata": {},
   "source": [
    "### Exercício 1.a\n",
    "\n",
    "Crie as seguintes funções:\n",
    "- ***pede_nome*** que pede o nome de um ficheiro de texto. Deverá verificar se o ficheiro existe. Caso não exista, volte a pedir. Caso exista, retorna numa string o nome do ficheiro.\n",
    "- ***calcula_linhas*** que recebe o nome do ficheiro e retorna o número de linhas do ficheiro\n",
    "- ***calcula_carateres*** que recebe o nome do ficheiro e retorna o número de carateres do ficheiro\n",
    "- ***calcula_palavra_comprida*** que retorna a palavra mais comprida do ficheiro.\n",
    "- ***guarda_resultados*** que guarda, no ficheiro resultados.txt, os resultados das várias funções (numero de linhas, carateres e palavra mais comprida).\n",
    "\n",
    "Crie um programa que utilize as funções acima definidas, apresentando os resultados num ficheiro. Para o ficheiro `poema.txt`, espera-se o seguinte conteúdo no ficheiro `resultados.txt`:\n",
    "```\n",
    "Análise do ficheiro: poema.txt\n",
    "Numero de linhas: 23\n",
    "Numero de carateres: 405\n",
    "Comprimento máximo: 15\n",
    "```"
   ]
  },
  {
   "cell_type": "code",
   "execution_count": 4,
   "metadata": {},
   "outputs": [
    {
     "name": "stdout",
     "output_type": "stream",
     "text": [
      "Informe o nome do ficheiro: teste\n",
      "Informe o nome do ficheiro: fagner\n",
      "Informe o nome do ficheiro: poema.txt\n",
      "poema.txt\n"
     ]
    }
   ],
   "source": [
    "import os\n",
    "\n",
    "def pede_nome():\n",
    "    while True:\n",
    "        filename = input('Informe o nome do ficheiro: ')\n",
    "        files = os.listdir('.')\n",
    "        if any(filename in item for item in files):\n",
    "            return filename\n",
    "        \n",
    "print(pede_nome())"
   ]
  },
  {
   "cell_type": "code",
   "execution_count": 5,
   "metadata": {},
   "outputs": [
    {
     "name": "stdout",
     "output_type": "stream",
     "text": [
      "23\n"
     ]
    }
   ],
   "source": [
    "import os\n",
    "\n",
    "def calcula_linhas(filename):\n",
    "    lines = sum(1 for line in open(filename))\n",
    "    return lines\n",
    "\n",
    "print(calcula_linhas('poema.txt'))"
   ]
  },
  {
   "cell_type": "code",
   "execution_count": 6,
   "metadata": {},
   "outputs": [
    {
     "name": "stdout",
     "output_type": "stream",
     "text": [
      "390\n"
     ]
    }
   ],
   "source": [
    "import os\n",
    "\n",
    "def calcula_carateres(filename):\n",
    "    file = open(filename, 'r')\n",
    "    return len(file.read())\n",
    "\n",
    "print(calcula_carateres('poema.txt'))"
   ]
  },
  {
   "cell_type": "code",
   "execution_count": 13,
   "metadata": {},
   "outputs": [
    {
     "name": "stdout",
     "output_type": "stream",
     "text": [
      "nós-próprios.\n"
     ]
    }
   ],
   "source": [
    "import os\n",
    "\n",
    "def calcula_palavra_comprida(filename):\n",
    "    file = open(filename, 'r')\n",
    "    words = file.read().split()\n",
    "    word_more_longer = len(max(words, key=len))\n",
    "    return [word for word in words if len(word) == word_more_longer][0]\n",
    "\n",
    "print(calcula_palavra_comprida('poema.txt'))"
   ]
  },
  {
   "cell_type": "code",
   "execution_count": 14,
   "metadata": {},
   "outputs": [],
   "source": [
    "import os\n",
    "\n",
    "def guarda_resultados(filename):\n",
    "    file = open('resultados.txt', 'a')\n",
    "    file.write(f'Análise do ficheiro: {filename}\\n')\n",
    "    file.write(f'Numero de linhas: {calcula_linhas(filename)}\\n')\n",
    "    file.write(f'Numero de carateres: {calcula_carateres(filename)}\\n')\n",
    "    file.write(f'Comprimento máximo: {len(calcula_palavra_comprida(filename))}\\n')\n",
    "    file.close()\n",
    "    \n",
    "guarda_resultados('poema.txt')"
   ]
  },
  {
   "cell_type": "markdown",
   "metadata": {},
   "source": [
    "### Exercício 1.b\n",
    "\n",
    "Guarde as funções atrás no modulo `estatistica_ficheiros.py`. Crie um programa que importe esse módulo e utilize as funções acima definidas, apresentando os resultados num ficheiro de forma semelhante ao exercicio 1.a. Para o ficheiro `poema.txt`, espera-se o seguinte conteúdo no ficheiro `resultados.txt`:\n",
    "```\n",
    "Análise do ficheiro: poema.txt\n",
    "Numero de linhas: 23\n",
    "Numero de carateres: 405\n",
    "Comprimento máximo: 15\n",
    "```"
   ]
  },
  {
   "cell_type": "code",
   "execution_count": 3,
   "metadata": {},
   "outputs": [],
   "source": [
    "import estatistica_ficheiros as ef\n",
    "\n",
    "ef.guarda_resultados('poema.txt')"
   ]
  },
  {
   "cell_type": "markdown",
   "metadata": {},
   "source": [
    "### Exercício 2\n",
    "Escreva um programa que:\n",
    "* para um ficheiro indicado pelo utilizador, contabiliza a quantidade de ocorrências de cada carater (considere maiusculas e minusculas como semelhantes). Construa um dicionario que armazene os pares palavra:ocorrência. \n",
    "* Imprima os carateres e suas ocorrências, ordenados de forma decrescente pelo número de ocorrências. \n",
    "\n",
    "Experimente o programa para o ficheiro `poema.txt`"
   ]
  },
  {
   "cell_type": "code",
   "execution_count": 17,
   "metadata": {},
   "outputs": [
    {
     "name": "stdout",
     "output_type": "stream",
     "text": [
      "Informe o nome do ficheiro: poema.txt\n",
      "{'s': 43, 'e': 43, 'a': 35, 'o': 29, 'r': 19, 'n': 16, 'u': 15, 'd': 14, 'm': 14, 't': 13, 'i': 13, 'p': 10, 'l': 7, 'g': 5, 'ó': 5, 'é': 3, 'v': 3, 'q': 3, 'ã': 3, 'á': 2, 'c': 2, 'b': 1, 'h': 1, 'ê': 1, 'z': 1, 'ç': 1}\n"
     ]
    }
   ],
   "source": [
    "import os\n",
    "\n",
    "filename = input('Informe o nome do ficheiro: ')\n",
    "letters = {}\n",
    "with open(filename, \"r\") as file:\n",
    "    for line in file:\n",
    "        words = line.split()\n",
    "        for word in words:\n",
    "            for letter in word:\n",
    "                if letter.isalpha():\n",
    "                    if letter.lower() in letters:\n",
    "                        total = letters.get(letter.lower())\n",
    "                        total = total + 1\n",
    "                        letters[letter.lower()] = total\n",
    "                    else:\n",
    "                        letters[letter.lower()] = 1\n",
    "\n",
    "print(dict(sorted(letters.items(), key=lambda item: item[1], reverse=True)))\n",
    "      "
   ]
  },
  {
   "cell_type": "markdown",
   "metadata": {},
   "source": [
    "### Exercício 3\n",
    "Escreva um programa que extrai o conteúdo de um ficheiro e escreve num ficheiro output.txt o conteúdo, substituindo os carateres '\\n' por espaços. \n",
    "\n",
    "Exemplo:\n",
    "* se tivermos um ficheiro com o seguinte conteúdo:\n",
    "\n",
    "```\n",
    "Darth\\n\n",
    "Luke\\n\n",
    "Darth\\n\n",
    "Lea\\n\n",
    "Darth\n",
    "```\n",
    "\n",
    "* o ficheiro out.txt terá o seguinte conteúdo:\n",
    "```\n",
    "Darth Luke Darth Lea Darth\n",
    "```"
   ]
  },
  {
   "cell_type": "code",
   "execution_count": 19,
   "metadata": {},
   "outputs": [
    {
     "name": "stdout",
     "output_type": "stream",
     "text": [
      "Informe o nome do ficheiro: poema.txt\n"
     ]
    }
   ],
   "source": [
    "import os\n",
    "\n",
    "filename = input('Informe o nome do ficheiro: ')\n",
    "with open(filename, \"r\") as file:\n",
    "    dados = file.read()\n",
    "    dados = dados.replace('\\n', ' ')\n",
    "    output = open('output.txt', 'w')\n",
    "    output.write(dados)\n",
    "    output.close()"
   ]
  },
  {
   "cell_type": "markdown",
   "metadata": {},
   "source": [
    "### Exercício 4\n",
    "Escreva um programa que extrai o conteúdo de um ficheiro, e escreve num ficheiro output.txt o conteúdo, colocando uma palavra por linha.\n",
    "\n",
    "Exemplo: \n",
    "* se tivermos um ficheiro com o seguinte conteúdo:\n",
    "\n",
    "```\n",
    "Segue o teu destino\n",
    "```\n",
    "\n",
    "*  ficheiro out.txt terá o seguinte conteúdo:\n",
    "```\n",
    "Segue \n",
    "o \n",
    "teu \n",
    "destino```\n"
   ]
  },
  {
   "cell_type": "code",
   "execution_count": 20,
   "metadata": {},
   "outputs": [
    {
     "name": "stdout",
     "output_type": "stream",
     "text": [
      "Informe o nome do ficheiro: poema.txt\n"
     ]
    }
   ],
   "source": [
    "import os\n",
    "\n",
    "filename = input('Informe o nome do ficheiro: ')\n",
    "with open(filename, \"r\") as file:\n",
    "    palavras = file.read().split()\n",
    "    output = open('output.txt', 'w')\n",
    "    for palavra in palavras:\n",
    "        output.write(f'{palavra}\\n') \n",
    "    output.close()"
   ]
  },
  {
   "cell_type": "markdown",
   "metadata": {},
   "source": [
    "### Exercício 5\n",
    "Crie um ficheiro notas.txt com uma série de notas de testes, uma por linha. Escreva um programa que lê o ficheiro e imprime: \n",
    "* a quantidade de notas\n",
    "* a média das notas\n",
    "* a melhor nota\n",
    "* a pior nota"
   ]
  },
  {
   "cell_type": "code",
   "execution_count": 26,
   "metadata": {},
   "outputs": [
    {
     "name": "stdout",
     "output_type": "stream",
     "text": [
      "Quantidade de notas: 12\n",
      "Média de notas: 8.166666666666666\n",
      "A melhor nota: 20\n",
      "A pior nota: 0\n"
     ]
    }
   ],
   "source": [
    "import os\n",
    "\n",
    "with open('notas.txt', \"r\") as file:\n",
    "    notas = file.read().split()\n",
    "    print(f'Quantidade de notas: {len(notas)}')\n",
    "    print(f'Média de notas: {sum(int(item) for item in notas)/len(notas)}')\n",
    "    print(f'A melhor nota: {max(int(item) for item in notas)}')\n",
    "    print(f'A pior nota: {min(int(item) for item in notas)}')"
   ]
  },
  {
   "cell_type": "markdown",
   "metadata": {},
   "source": [
    "### Exercício 6\n",
    "\n",
    "Considere o ficheiro “aniversarios.txt” (em anexo) onde cada linha tem o seguinte formato:\n",
    "```\n",
    "<nome>   <apelido>   <data_de_nascimento>\n",
    "```\n",
    "\n",
    "* Peça ao utilizador para inserir o ano atual.\n",
    "* leia o ficheiro “aniversarios.txt” para uma lista de linhas\n",
    "* Crie o dicionário aniversariantes, **dic_idades**, vazio\n",
    "* Extraia a informação de cada pessoa (campos nome, apelido, data_de_nascimento), calcule a idade e armazene em dic_idades o par **(nome,apelido):idade** (a chave será um tuplo). \n",
    "* peça ao utilizador para inserir o nome e apelido de uma pessoa. Recorrendo ao dicionario:\n",
    "  * Caso exista, indique a sua idade\n",
    "  * Caso contrário, indique que não existe na lista\n",
    "  Repita enquanto não seja inserido \"fim\".\n",
    "  \n",
    "Exemplo de interação com o utilizador:\n",
    "```\n",
    "Insira o ano atual: 2019\n",
    "insira o nome e apelido de uma pessoa (ou 'fim' para terminar): Manuel Alegre\n",
    "Manuel Alegre tem 83 anos\n",
    "insira o nome e apelido de uma pessoa (ou 'fim' para terminar): Ricardo Pedro\n",
    "Ricardo Pedro não existe no dicionario\n",
    "insira o nome e apelido de uma pessoa (ou 'fim' para terminar): fim\n",
    "O programa vai terminar\n",
    "```"
   ]
  },
  {
   "cell_type": "code",
   "execution_count": 32,
   "metadata": {},
   "outputs": [
    {
     "name": "stdout",
     "output_type": "stream",
     "text": [
      "Insira o ano atual: 2021\n",
      "insira o nome e apelido de uma pessoa (ou 'fim' para terminar): Manuel Alegre\n",
      "Manuel Alegre tem 85 anos\n",
      "insira o nome e apelido de uma pessoa (ou 'fim' para terminar): Ricardo Pedro\n",
      "Ricardo Pedro não existe no dicionario\n",
      "insira o nome e apelido de uma pessoa (ou 'fim' para terminar): fim\n",
      "O programa vai terminar\n"
     ]
    }
   ],
   "source": [
    "import os\n",
    "\n",
    "ano = input('Insira o ano atual: ')\n",
    "dic_idades = {}\n",
    "with open('aniversarios.txt', \"r\") as file:\n",
    "    for line in file:\n",
    "        items = line.split()\n",
    "        dic_idades[(items[0], items[1])] = int(ano)-int(items[2][-4:])\n",
    "while True:\n",
    "    key = input(\"insira o nome e apelido de uma pessoa (ou 'fim' para terminar): \")\n",
    "    if key == 'fim':\n",
    "        print('O programa vai terminar')\n",
    "        break\n",
    "    keys = key.split()\n",
    "    key_tuple = (keys[0], keys[1])\n",
    "    \n",
    "    if key_tuple in dic_idades:\n",
    "        idade = dic_idades.get(key_tuple)\n",
    "        print(f'{key} tem {idade} anos')\n",
    "    else:\n",
    "        print(f'{key} não existe no dicionario')"
   ]
  },
  {
   "cell_type": "markdown",
   "metadata": {},
   "source": [
    "### Exercício 7\n",
    "Defina um módulo que integra a definição de duas funções:\n",
    "- a função ***le_inteiro_positivo*** que pede ao utilizador para inserir um inteiro positivo. Euqnato tal condição não seja satisfeita volte a pedir.\n",
    "- a função ***fatorial*** que recebe um inteiro e retorna o seu factorial. Documente-a adequadamente. \n",
    "\n",
    "Construa um programa que utilize este módulo, importando-o, e use estas funções."
   ]
  },
  {
   "cell_type": "code",
   "execution_count": 47,
   "metadata": {},
   "outputs": [
    {
     "name": "stdout",
     "output_type": "stream",
     "text": [
      "Insira um inteiro positivo: 5\n",
      "120\n"
     ]
    }
   ],
   "source": [
    "import mathematica as m\n",
    "\n",
    "print(m.fatorial(int(m.le_inteiro_positivo())))"
   ]
  }
 ],
 "metadata": {
  "kernelspec": {
   "display_name": "Python 3 (ipykernel)",
   "language": "python",
   "name": "python3"
  },
  "language_info": {
   "codemirror_mode": {
    "name": "ipython",
    "version": 3
   },
   "file_extension": ".py",
   "mimetype": "text/x-python",
   "name": "python",
   "nbconvert_exporter": "python",
   "pygments_lexer": "ipython3",
   "version": "3.9.7"
  }
 },
 "nbformat": 4,
 "nbformat_minor": 2
}
